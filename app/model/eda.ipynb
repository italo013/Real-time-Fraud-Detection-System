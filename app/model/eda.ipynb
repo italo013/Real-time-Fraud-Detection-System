{
 "cells": [
  {
   "cell_type": "markdown",
   "metadata": {},
   "source": [
    "# About the Dataset"
   ]
  },
  {
   "cell_type": "markdown",
   "metadata": {},
   "source": [
    "This is a simulated credit card transaction dataset containing legitimate and fraudulent transactions from the period of January 1, 2019, to December 31, 2020. The dataset was collected and made available on Kaggle.\n",
    "\n",
    "### Dataset Columns\n",
    "\n",
    "1. **trans_date_trans_time**: Transaction date and time.\n",
    "2. **cc_num**: Credit card number.\n",
    "3. **merchant**: Name of the merchant where the transaction was made.\n",
    "4. **category**: Merchant category.\n",
    "5. **amt**: Transaction amount.\n",
    "6. **first**: First name of the cardholder.\n",
    "7. **last**: Last name of the cardholder.\n",
    "8. **gender**: Gender of the cardholder.\n",
    "9. **street**: Street address of the cardholder.\n",
    "10. **city**: City of the cardholder's address.\n",
    "11. **state**: State of the cardholder's address.\n",
    "12. **zip**: Zip code of the cardholder's address.\n",
    "13. **lat**: Latitude of the cardholder's address.\n",
    "14. **long**: Longitude of the cardholder's address.\n",
    "15. **city_pop**: Population of the cardholder's city.\n",
    "16. **job**: Job of the cardholder.\n",
    "17. **dob**: Date of birth of the cardholder.\n",
    "18. **trans_num**: Transaction number.\n",
    "19. **unix_time**: Transaction timestamp in Unix format.\n",
    "20. **merch_lat**: Merchant's latitude.\n",
    "21. **merch_long**: Merchant's longitude.\n",
    "22. **is_fraud**: Fraud indicator (0 for legitimate transactions, 1 for fraudulent transactions).\n",
    "\n",
    "### Usage Examples\n",
    "\n",
    "This dataset can be used for various analyses and predictive models, such as:\n",
    "\n",
    "- Exploratory Data Analysis (EDA) to understand patterns of fraudulent transactions.\n",
    "- Training machine learning models for fraud detection.\n",
    "- Studies on consumer and merchant behavior.\n",
    "\n",
    "### Source\n",
    "\n",
    "The dataset is available on Kaggle and can be accessed [here](https://www.kaggle.com/datasets/kartik2112/fraud-detection/data)."
   ]
  },
  {
   "cell_type": "markdown",
   "metadata": {},
   "source": [
    "# Importing Libraries"
   ]
  },
  {
   "cell_type": "code",
   "execution_count": 1,
   "metadata": {},
   "outputs": [],
   "source": [
    "#Data Manipulation\n",
    "import pandas as pd\n",
    "import numpy as np\n",
    "\n",
    "#System\n",
    "import os\n",
    "import sys\n",
    "\n",
    "#Visualization\n",
    "import plotly.graph_objects as go\n",
    "\n",
    "# Adding the project's root directory to sys.path\n",
    "sys.path.append(os.path.abspath(os.path.join(os.getcwd(), os.pardir, os.pardir)))\n",
    "\n",
    "from app.lib.crisp_dm.data_understanding import DataUnderstanding\n",
    "from app.lib.crisp_dm.data_vizualization import DataVisualization"
   ]
  },
  {
   "cell_type": "markdown",
   "metadata": {},
   "source": [
    "## Settings"
   ]
  },
  {
   "cell_type": "code",
   "execution_count": 2,
   "metadata": {},
   "outputs": [],
   "source": [
    "pd.set_option('display.max_columns', 500)"
   ]
  },
  {
   "cell_type": "markdown",
   "metadata": {},
   "source": [
    "# Importing the Dataset"
   ]
  },
  {
   "cell_type": "code",
   "execution_count": 3,
   "metadata": {},
   "outputs": [
    {
     "data": {
      "text/html": [
       "<div>\n",
       "<style scoped>\n",
       "    .dataframe tbody tr th:only-of-type {\n",
       "        vertical-align: middle;\n",
       "    }\n",
       "\n",
       "    .dataframe tbody tr th {\n",
       "        vertical-align: top;\n",
       "    }\n",
       "\n",
       "    .dataframe thead th {\n",
       "        text-align: right;\n",
       "    }\n",
       "</style>\n",
       "<table border=\"1\" class=\"dataframe\">\n",
       "  <thead>\n",
       "    <tr style=\"text-align: right;\">\n",
       "      <th></th>\n",
       "      <th>trans_date_trans_time</th>\n",
       "      <th>cc_num</th>\n",
       "      <th>merchant</th>\n",
       "      <th>category</th>\n",
       "      <th>amt</th>\n",
       "      <th>first</th>\n",
       "      <th>last</th>\n",
       "      <th>gender</th>\n",
       "      <th>street</th>\n",
       "      <th>city</th>\n",
       "      <th>state</th>\n",
       "      <th>zip</th>\n",
       "      <th>lat</th>\n",
       "      <th>long</th>\n",
       "      <th>city_pop</th>\n",
       "      <th>job</th>\n",
       "      <th>dob</th>\n",
       "      <th>trans_num</th>\n",
       "      <th>unix_time</th>\n",
       "      <th>merch_lat</th>\n",
       "      <th>merch_long</th>\n",
       "      <th>is_fraud</th>\n",
       "    </tr>\n",
       "  </thead>\n",
       "  <tbody>\n",
       "    <tr>\n",
       "      <th>0</th>\n",
       "      <td>2020-06-21 12:14:25</td>\n",
       "      <td>2291163933867244</td>\n",
       "      <td>fraud_Kirlin and Sons</td>\n",
       "      <td>personal_care</td>\n",
       "      <td>2.86</td>\n",
       "      <td>Jeff</td>\n",
       "      <td>Elliott</td>\n",
       "      <td>M</td>\n",
       "      <td>351 Darlene Green</td>\n",
       "      <td>Columbia</td>\n",
       "      <td>SC</td>\n",
       "      <td>29209</td>\n",
       "      <td>33.9659</td>\n",
       "      <td>-80.9355</td>\n",
       "      <td>333497</td>\n",
       "      <td>Mechanical engineer</td>\n",
       "      <td>1968-03-19</td>\n",
       "      <td>2da90c7d74bd46a0caf3777415b3ebd3</td>\n",
       "      <td>1371816865</td>\n",
       "      <td>33.986391</td>\n",
       "      <td>-81.200714</td>\n",
       "      <td>0</td>\n",
       "    </tr>\n",
       "    <tr>\n",
       "      <th>1</th>\n",
       "      <td>2020-06-21 12:14:33</td>\n",
       "      <td>3573030041201292</td>\n",
       "      <td>fraud_Sporer-Keebler</td>\n",
       "      <td>personal_care</td>\n",
       "      <td>29.84</td>\n",
       "      <td>Joanne</td>\n",
       "      <td>Williams</td>\n",
       "      <td>F</td>\n",
       "      <td>3638 Marsh Union</td>\n",
       "      <td>Altonah</td>\n",
       "      <td>UT</td>\n",
       "      <td>84002</td>\n",
       "      <td>40.3207</td>\n",
       "      <td>-110.4360</td>\n",
       "      <td>302</td>\n",
       "      <td>Sales professional, IT</td>\n",
       "      <td>1990-01-17</td>\n",
       "      <td>324cc204407e99f51b0d6ca0055005e7</td>\n",
       "      <td>1371816873</td>\n",
       "      <td>39.450498</td>\n",
       "      <td>-109.960431</td>\n",
       "      <td>0</td>\n",
       "    </tr>\n",
       "    <tr>\n",
       "      <th>2</th>\n",
       "      <td>2020-06-21 12:14:53</td>\n",
       "      <td>3598215285024754</td>\n",
       "      <td>fraud_Swaniawski, Nitzsche and Welch</td>\n",
       "      <td>health_fitness</td>\n",
       "      <td>41.28</td>\n",
       "      <td>Ashley</td>\n",
       "      <td>Lopez</td>\n",
       "      <td>F</td>\n",
       "      <td>9333 Valentine Point</td>\n",
       "      <td>Bellmore</td>\n",
       "      <td>NY</td>\n",
       "      <td>11710</td>\n",
       "      <td>40.6729</td>\n",
       "      <td>-73.5365</td>\n",
       "      <td>34496</td>\n",
       "      <td>Librarian, public</td>\n",
       "      <td>1970-10-21</td>\n",
       "      <td>c81755dbbbea9d5c77f094348a7579be</td>\n",
       "      <td>1371816893</td>\n",
       "      <td>40.495810</td>\n",
       "      <td>-74.196111</td>\n",
       "      <td>0</td>\n",
       "    </tr>\n",
       "    <tr>\n",
       "      <th>3</th>\n",
       "      <td>2020-06-21 12:15:15</td>\n",
       "      <td>3591919803438423</td>\n",
       "      <td>fraud_Haley Group</td>\n",
       "      <td>misc_pos</td>\n",
       "      <td>60.05</td>\n",
       "      <td>Brian</td>\n",
       "      <td>Williams</td>\n",
       "      <td>M</td>\n",
       "      <td>32941 Krystal Mill Apt. 552</td>\n",
       "      <td>Titusville</td>\n",
       "      <td>FL</td>\n",
       "      <td>32780</td>\n",
       "      <td>28.5697</td>\n",
       "      <td>-80.8191</td>\n",
       "      <td>54767</td>\n",
       "      <td>Set designer</td>\n",
       "      <td>1987-07-25</td>\n",
       "      <td>2159175b9efe66dc301f149d3d5abf8c</td>\n",
       "      <td>1371816915</td>\n",
       "      <td>28.812398</td>\n",
       "      <td>-80.883061</td>\n",
       "      <td>0</td>\n",
       "    </tr>\n",
       "    <tr>\n",
       "      <th>4</th>\n",
       "      <td>2020-06-21 12:15:17</td>\n",
       "      <td>3526826139003047</td>\n",
       "      <td>fraud_Johnston-Casper</td>\n",
       "      <td>travel</td>\n",
       "      <td>3.19</td>\n",
       "      <td>Nathan</td>\n",
       "      <td>Massey</td>\n",
       "      <td>M</td>\n",
       "      <td>5783 Evan Roads Apt. 465</td>\n",
       "      <td>Falmouth</td>\n",
       "      <td>MI</td>\n",
       "      <td>49632</td>\n",
       "      <td>44.2529</td>\n",
       "      <td>-85.0170</td>\n",
       "      <td>1126</td>\n",
       "      <td>Furniture designer</td>\n",
       "      <td>1955-07-06</td>\n",
       "      <td>57ff021bd3f328f8738bb535c302a31b</td>\n",
       "      <td>1371816917</td>\n",
       "      <td>44.959148</td>\n",
       "      <td>-85.884734</td>\n",
       "      <td>0</td>\n",
       "    </tr>\n",
       "  </tbody>\n",
       "</table>\n",
       "</div>"
      ],
      "text/plain": [
       "  trans_date_trans_time            cc_num  \\\n",
       "0   2020-06-21 12:14:25  2291163933867244   \n",
       "1   2020-06-21 12:14:33  3573030041201292   \n",
       "2   2020-06-21 12:14:53  3598215285024754   \n",
       "3   2020-06-21 12:15:15  3591919803438423   \n",
       "4   2020-06-21 12:15:17  3526826139003047   \n",
       "\n",
       "                               merchant        category    amt   first  \\\n",
       "0                 fraud_Kirlin and Sons   personal_care   2.86    Jeff   \n",
       "1                  fraud_Sporer-Keebler   personal_care  29.84  Joanne   \n",
       "2  fraud_Swaniawski, Nitzsche and Welch  health_fitness  41.28  Ashley   \n",
       "3                     fraud_Haley Group        misc_pos  60.05   Brian   \n",
       "4                 fraud_Johnston-Casper          travel   3.19  Nathan   \n",
       "\n",
       "       last gender                       street        city state    zip  \\\n",
       "0   Elliott      M            351 Darlene Green    Columbia    SC  29209   \n",
       "1  Williams      F             3638 Marsh Union     Altonah    UT  84002   \n",
       "2     Lopez      F         9333 Valentine Point    Bellmore    NY  11710   \n",
       "3  Williams      M  32941 Krystal Mill Apt. 552  Titusville    FL  32780   \n",
       "4    Massey      M     5783 Evan Roads Apt. 465    Falmouth    MI  49632   \n",
       "\n",
       "       lat      long  city_pop                     job         dob  \\\n",
       "0  33.9659  -80.9355    333497     Mechanical engineer  1968-03-19   \n",
       "1  40.3207 -110.4360       302  Sales professional, IT  1990-01-17   \n",
       "2  40.6729  -73.5365     34496       Librarian, public  1970-10-21   \n",
       "3  28.5697  -80.8191     54767            Set designer  1987-07-25   \n",
       "4  44.2529  -85.0170      1126      Furniture designer  1955-07-06   \n",
       "\n",
       "                          trans_num   unix_time  merch_lat  merch_long  \\\n",
       "0  2da90c7d74bd46a0caf3777415b3ebd3  1371816865  33.986391  -81.200714   \n",
       "1  324cc204407e99f51b0d6ca0055005e7  1371816873  39.450498 -109.960431   \n",
       "2  c81755dbbbea9d5c77f094348a7579be  1371816893  40.495810  -74.196111   \n",
       "3  2159175b9efe66dc301f149d3d5abf8c  1371816915  28.812398  -80.883061   \n",
       "4  57ff021bd3f328f8738bb535c302a31b  1371816917  44.959148  -85.884734   \n",
       "\n",
       "   is_fraud  \n",
       "0         0  \n",
       "1         0  \n",
       "2         0  \n",
       "3         0  \n",
       "4         0  "
      ]
     },
     "execution_count": 3,
     "metadata": {},
     "output_type": "execute_result"
    }
   ],
   "source": [
    "df_path = f\"dataset/fraudTest.csv\"\n",
    "df = pd.read_csv(df_path, index_col=0)\n",
    "df.head()"
   ]
  },
  {
   "cell_type": "markdown",
   "metadata": {},
   "source": [
    "# Data Understanding"
   ]
  },
  {
   "cell_type": "code",
   "execution_count": 4,
   "metadata": {},
   "outputs": [
    {
     "data": {
      "text/markdown": [
       "<H3 style='text-align:left;float:left;'>Dataset Information</H3>"
      ],
      "text/plain": [
       "<IPython.core.display.Markdown object>"
      ]
     },
     "metadata": {},
     "output_type": "display_data"
    },
    {
     "data": {
      "text/markdown": [
       "<H5>The dataset has 555719 rows and 22 columns. Of these, we have:</H5>"
      ],
      "text/plain": [
       "<IPython.core.display.Markdown object>"
      ]
     },
     "metadata": {},
     "output_type": "display_data"
    },
    {
     "data": {
      "text/html": [
       "<style type=\"text/css\">\n",
       "#T_e1351_row0_col2, #T_e1351_row1_col2, #T_e1351_row2_col2, #T_e1351_row3_col2, #T_e1351_row4_col2, #T_e1351_row5_col2, #T_e1351_row6_col2, #T_e1351_row7_col2, #T_e1351_row8_col2, #T_e1351_row9_col2, #T_e1351_row10_col2, #T_e1351_row11_col2, #T_e1351_row12_col2, #T_e1351_row13_col2, #T_e1351_row14_col2, #T_e1351_row15_col2, #T_e1351_row16_col2, #T_e1351_row17_col2, #T_e1351_row18_col2, #T_e1351_row19_col2, #T_e1351_row20_col2, #T_e1351_row21_col2 {\n",
       "  background-color: #000080;\n",
       "  color: #f1f1f1;\n",
       "}\n",
       "</style>\n",
       "<table id=\"T_e1351\">\n",
       "  <thead>\n",
       "    <tr>\n",
       "      <th class=\"blank level0\" >&nbsp;</th>\n",
       "      <th id=\"T_e1351_level0_col0\" class=\"col_heading level0 col0\" >Not Null</th>\n",
       "      <th id=\"T_e1351_level0_col1\" class=\"col_heading level0 col1\" >Null</th>\n",
       "      <th id=\"T_e1351_level0_col2\" class=\"col_heading level0 col2\" >Perce Null</th>\n",
       "      <th id=\"T_e1351_level0_col3\" class=\"col_heading level0 col3\" >Dtype</th>\n",
       "      <th id=\"T_e1351_level0_col4\" class=\"col_heading level0 col4\" >Cardinality</th>\n",
       "    </tr>\n",
       "  </thead>\n",
       "  <tbody>\n",
       "    <tr>\n",
       "      <th id=\"T_e1351_level0_row0\" class=\"row_heading level0 row0\" >trans_date_trans_time</th>\n",
       "      <td id=\"T_e1351_row0_col0\" class=\"data row0 col0\" >555719</td>\n",
       "      <td id=\"T_e1351_row0_col1\" class=\"data row0 col1\" >0</td>\n",
       "      <td id=\"T_e1351_row0_col2\" class=\"data row0 col2\" >0.00%</td>\n",
       "      <td id=\"T_e1351_row0_col3\" class=\"data row0 col3\" >object</td>\n",
       "      <td id=\"T_e1351_row0_col4\" class=\"data row0 col4\" >544760</td>\n",
       "    </tr>\n",
       "    <tr>\n",
       "      <th id=\"T_e1351_level0_row1\" class=\"row_heading level0 row1\" >cc_num</th>\n",
       "      <td id=\"T_e1351_row1_col0\" class=\"data row1 col0\" >555719</td>\n",
       "      <td id=\"T_e1351_row1_col1\" class=\"data row1 col1\" >0</td>\n",
       "      <td id=\"T_e1351_row1_col2\" class=\"data row1 col2\" >0.00%</td>\n",
       "      <td id=\"T_e1351_row1_col3\" class=\"data row1 col3\" >int64</td>\n",
       "      <td id=\"T_e1351_row1_col4\" class=\"data row1 col4\" >924</td>\n",
       "    </tr>\n",
       "    <tr>\n",
       "      <th id=\"T_e1351_level0_row2\" class=\"row_heading level0 row2\" >merchant</th>\n",
       "      <td id=\"T_e1351_row2_col0\" class=\"data row2 col0\" >555719</td>\n",
       "      <td id=\"T_e1351_row2_col1\" class=\"data row2 col1\" >0</td>\n",
       "      <td id=\"T_e1351_row2_col2\" class=\"data row2 col2\" >0.00%</td>\n",
       "      <td id=\"T_e1351_row2_col3\" class=\"data row2 col3\" >object</td>\n",
       "      <td id=\"T_e1351_row2_col4\" class=\"data row2 col4\" >693</td>\n",
       "    </tr>\n",
       "    <tr>\n",
       "      <th id=\"T_e1351_level0_row3\" class=\"row_heading level0 row3\" >category</th>\n",
       "      <td id=\"T_e1351_row3_col0\" class=\"data row3 col0\" >555719</td>\n",
       "      <td id=\"T_e1351_row3_col1\" class=\"data row3 col1\" >0</td>\n",
       "      <td id=\"T_e1351_row3_col2\" class=\"data row3 col2\" >0.00%</td>\n",
       "      <td id=\"T_e1351_row3_col3\" class=\"data row3 col3\" >object</td>\n",
       "      <td id=\"T_e1351_row3_col4\" class=\"data row3 col4\" >14</td>\n",
       "    </tr>\n",
       "    <tr>\n",
       "      <th id=\"T_e1351_level0_row4\" class=\"row_heading level0 row4\" >amt</th>\n",
       "      <td id=\"T_e1351_row4_col0\" class=\"data row4 col0\" >555719</td>\n",
       "      <td id=\"T_e1351_row4_col1\" class=\"data row4 col1\" >0</td>\n",
       "      <td id=\"T_e1351_row4_col2\" class=\"data row4 col2\" >0.00%</td>\n",
       "      <td id=\"T_e1351_row4_col3\" class=\"data row4 col3\" >float64</td>\n",
       "      <td id=\"T_e1351_row4_col4\" class=\"data row4 col4\" >37256</td>\n",
       "    </tr>\n",
       "    <tr>\n",
       "      <th id=\"T_e1351_level0_row5\" class=\"row_heading level0 row5\" >first</th>\n",
       "      <td id=\"T_e1351_row5_col0\" class=\"data row5 col0\" >555719</td>\n",
       "      <td id=\"T_e1351_row5_col1\" class=\"data row5 col1\" >0</td>\n",
       "      <td id=\"T_e1351_row5_col2\" class=\"data row5 col2\" >0.00%</td>\n",
       "      <td id=\"T_e1351_row5_col3\" class=\"data row5 col3\" >object</td>\n",
       "      <td id=\"T_e1351_row5_col4\" class=\"data row5 col4\" >341</td>\n",
       "    </tr>\n",
       "    <tr>\n",
       "      <th id=\"T_e1351_level0_row6\" class=\"row_heading level0 row6\" >last</th>\n",
       "      <td id=\"T_e1351_row6_col0\" class=\"data row6 col0\" >555719</td>\n",
       "      <td id=\"T_e1351_row6_col1\" class=\"data row6 col1\" >0</td>\n",
       "      <td id=\"T_e1351_row6_col2\" class=\"data row6 col2\" >0.00%</td>\n",
       "      <td id=\"T_e1351_row6_col3\" class=\"data row6 col3\" >object</td>\n",
       "      <td id=\"T_e1351_row6_col4\" class=\"data row6 col4\" >471</td>\n",
       "    </tr>\n",
       "    <tr>\n",
       "      <th id=\"T_e1351_level0_row7\" class=\"row_heading level0 row7\" >gender</th>\n",
       "      <td id=\"T_e1351_row7_col0\" class=\"data row7 col0\" >555719</td>\n",
       "      <td id=\"T_e1351_row7_col1\" class=\"data row7 col1\" >0</td>\n",
       "      <td id=\"T_e1351_row7_col2\" class=\"data row7 col2\" >0.00%</td>\n",
       "      <td id=\"T_e1351_row7_col3\" class=\"data row7 col3\" >object</td>\n",
       "      <td id=\"T_e1351_row7_col4\" class=\"data row7 col4\" >2</td>\n",
       "    </tr>\n",
       "    <tr>\n",
       "      <th id=\"T_e1351_level0_row8\" class=\"row_heading level0 row8\" >street</th>\n",
       "      <td id=\"T_e1351_row8_col0\" class=\"data row8 col0\" >555719</td>\n",
       "      <td id=\"T_e1351_row8_col1\" class=\"data row8 col1\" >0</td>\n",
       "      <td id=\"T_e1351_row8_col2\" class=\"data row8 col2\" >0.00%</td>\n",
       "      <td id=\"T_e1351_row8_col3\" class=\"data row8 col3\" >object</td>\n",
       "      <td id=\"T_e1351_row8_col4\" class=\"data row8 col4\" >924</td>\n",
       "    </tr>\n",
       "    <tr>\n",
       "      <th id=\"T_e1351_level0_row9\" class=\"row_heading level0 row9\" >city</th>\n",
       "      <td id=\"T_e1351_row9_col0\" class=\"data row9 col0\" >555719</td>\n",
       "      <td id=\"T_e1351_row9_col1\" class=\"data row9 col1\" >0</td>\n",
       "      <td id=\"T_e1351_row9_col2\" class=\"data row9 col2\" >0.00%</td>\n",
       "      <td id=\"T_e1351_row9_col3\" class=\"data row9 col3\" >object</td>\n",
       "      <td id=\"T_e1351_row9_col4\" class=\"data row9 col4\" >849</td>\n",
       "    </tr>\n",
       "    <tr>\n",
       "      <th id=\"T_e1351_level0_row10\" class=\"row_heading level0 row10\" >state</th>\n",
       "      <td id=\"T_e1351_row10_col0\" class=\"data row10 col0\" >555719</td>\n",
       "      <td id=\"T_e1351_row10_col1\" class=\"data row10 col1\" >0</td>\n",
       "      <td id=\"T_e1351_row10_col2\" class=\"data row10 col2\" >0.00%</td>\n",
       "      <td id=\"T_e1351_row10_col3\" class=\"data row10 col3\" >object</td>\n",
       "      <td id=\"T_e1351_row10_col4\" class=\"data row10 col4\" >50</td>\n",
       "    </tr>\n",
       "    <tr>\n",
       "      <th id=\"T_e1351_level0_row11\" class=\"row_heading level0 row11\" >zip</th>\n",
       "      <td id=\"T_e1351_row11_col0\" class=\"data row11 col0\" >555719</td>\n",
       "      <td id=\"T_e1351_row11_col1\" class=\"data row11 col1\" >0</td>\n",
       "      <td id=\"T_e1351_row11_col2\" class=\"data row11 col2\" >0.00%</td>\n",
       "      <td id=\"T_e1351_row11_col3\" class=\"data row11 col3\" >int64</td>\n",
       "      <td id=\"T_e1351_row11_col4\" class=\"data row11 col4\" >912</td>\n",
       "    </tr>\n",
       "    <tr>\n",
       "      <th id=\"T_e1351_level0_row12\" class=\"row_heading level0 row12\" >lat</th>\n",
       "      <td id=\"T_e1351_row12_col0\" class=\"data row12 col0\" >555719</td>\n",
       "      <td id=\"T_e1351_row12_col1\" class=\"data row12 col1\" >0</td>\n",
       "      <td id=\"T_e1351_row12_col2\" class=\"data row12 col2\" >0.00%</td>\n",
       "      <td id=\"T_e1351_row12_col3\" class=\"data row12 col3\" >float64</td>\n",
       "      <td id=\"T_e1351_row12_col4\" class=\"data row12 col4\" >910</td>\n",
       "    </tr>\n",
       "    <tr>\n",
       "      <th id=\"T_e1351_level0_row13\" class=\"row_heading level0 row13\" >long</th>\n",
       "      <td id=\"T_e1351_row13_col0\" class=\"data row13 col0\" >555719</td>\n",
       "      <td id=\"T_e1351_row13_col1\" class=\"data row13 col1\" >0</td>\n",
       "      <td id=\"T_e1351_row13_col2\" class=\"data row13 col2\" >0.00%</td>\n",
       "      <td id=\"T_e1351_row13_col3\" class=\"data row13 col3\" >float64</td>\n",
       "      <td id=\"T_e1351_row13_col4\" class=\"data row13 col4\" >910</td>\n",
       "    </tr>\n",
       "    <tr>\n",
       "      <th id=\"T_e1351_level0_row14\" class=\"row_heading level0 row14\" >city_pop</th>\n",
       "      <td id=\"T_e1351_row14_col0\" class=\"data row14 col0\" >555719</td>\n",
       "      <td id=\"T_e1351_row14_col1\" class=\"data row14 col1\" >0</td>\n",
       "      <td id=\"T_e1351_row14_col2\" class=\"data row14 col2\" >0.00%</td>\n",
       "      <td id=\"T_e1351_row14_col3\" class=\"data row14 col3\" >int64</td>\n",
       "      <td id=\"T_e1351_row14_col4\" class=\"data row14 col4\" >835</td>\n",
       "    </tr>\n",
       "    <tr>\n",
       "      <th id=\"T_e1351_level0_row15\" class=\"row_heading level0 row15\" >job</th>\n",
       "      <td id=\"T_e1351_row15_col0\" class=\"data row15 col0\" >555719</td>\n",
       "      <td id=\"T_e1351_row15_col1\" class=\"data row15 col1\" >0</td>\n",
       "      <td id=\"T_e1351_row15_col2\" class=\"data row15 col2\" >0.00%</td>\n",
       "      <td id=\"T_e1351_row15_col3\" class=\"data row15 col3\" >object</td>\n",
       "      <td id=\"T_e1351_row15_col4\" class=\"data row15 col4\" >478</td>\n",
       "    </tr>\n",
       "    <tr>\n",
       "      <th id=\"T_e1351_level0_row16\" class=\"row_heading level0 row16\" >dob</th>\n",
       "      <td id=\"T_e1351_row16_col0\" class=\"data row16 col0\" >555719</td>\n",
       "      <td id=\"T_e1351_row16_col1\" class=\"data row16 col1\" >0</td>\n",
       "      <td id=\"T_e1351_row16_col2\" class=\"data row16 col2\" >0.00%</td>\n",
       "      <td id=\"T_e1351_row16_col3\" class=\"data row16 col3\" >object</td>\n",
       "      <td id=\"T_e1351_row16_col4\" class=\"data row16 col4\" >910</td>\n",
       "    </tr>\n",
       "    <tr>\n",
       "      <th id=\"T_e1351_level0_row17\" class=\"row_heading level0 row17\" >trans_num</th>\n",
       "      <td id=\"T_e1351_row17_col0\" class=\"data row17 col0\" >555719</td>\n",
       "      <td id=\"T_e1351_row17_col1\" class=\"data row17 col1\" >0</td>\n",
       "      <td id=\"T_e1351_row17_col2\" class=\"data row17 col2\" >0.00%</td>\n",
       "      <td id=\"T_e1351_row17_col3\" class=\"data row17 col3\" >object</td>\n",
       "      <td id=\"T_e1351_row17_col4\" class=\"data row17 col4\" >555719</td>\n",
       "    </tr>\n",
       "    <tr>\n",
       "      <th id=\"T_e1351_level0_row18\" class=\"row_heading level0 row18\" >unix_time</th>\n",
       "      <td id=\"T_e1351_row18_col0\" class=\"data row18 col0\" >555719</td>\n",
       "      <td id=\"T_e1351_row18_col1\" class=\"data row18 col1\" >0</td>\n",
       "      <td id=\"T_e1351_row18_col2\" class=\"data row18 col2\" >0.00%</td>\n",
       "      <td id=\"T_e1351_row18_col3\" class=\"data row18 col3\" >int64</td>\n",
       "      <td id=\"T_e1351_row18_col4\" class=\"data row18 col4\" >544760</td>\n",
       "    </tr>\n",
       "    <tr>\n",
       "      <th id=\"T_e1351_level0_row19\" class=\"row_heading level0 row19\" >merch_lat</th>\n",
       "      <td id=\"T_e1351_row19_col0\" class=\"data row19 col0\" >555719</td>\n",
       "      <td id=\"T_e1351_row19_col1\" class=\"data row19 col1\" >0</td>\n",
       "      <td id=\"T_e1351_row19_col2\" class=\"data row19 col2\" >0.00%</td>\n",
       "      <td id=\"T_e1351_row19_col3\" class=\"data row19 col3\" >float64</td>\n",
       "      <td id=\"T_e1351_row19_col4\" class=\"data row19 col4\" >546490</td>\n",
       "    </tr>\n",
       "    <tr>\n",
       "      <th id=\"T_e1351_level0_row20\" class=\"row_heading level0 row20\" >merch_long</th>\n",
       "      <td id=\"T_e1351_row20_col0\" class=\"data row20 col0\" >555719</td>\n",
       "      <td id=\"T_e1351_row20_col1\" class=\"data row20 col1\" >0</td>\n",
       "      <td id=\"T_e1351_row20_col2\" class=\"data row20 col2\" >0.00%</td>\n",
       "      <td id=\"T_e1351_row20_col3\" class=\"data row20 col3\" >float64</td>\n",
       "      <td id=\"T_e1351_row20_col4\" class=\"data row20 col4\" >551770</td>\n",
       "    </tr>\n",
       "    <tr>\n",
       "      <th id=\"T_e1351_level0_row21\" class=\"row_heading level0 row21\" >is_fraud</th>\n",
       "      <td id=\"T_e1351_row21_col0\" class=\"data row21 col0\" >555719</td>\n",
       "      <td id=\"T_e1351_row21_col1\" class=\"data row21 col1\" >0</td>\n",
       "      <td id=\"T_e1351_row21_col2\" class=\"data row21 col2\" >0.00%</td>\n",
       "      <td id=\"T_e1351_row21_col3\" class=\"data row21 col3\" >int64</td>\n",
       "      <td id=\"T_e1351_row21_col4\" class=\"data row21 col4\" >2</td>\n",
       "    </tr>\n",
       "  </tbody>\n",
       "</table>\n"
      ],
      "text/plain": [
       "<pandas.io.formats.style.Styler at 0x27d502b5730>"
      ]
     },
     "metadata": {},
     "output_type": "display_data"
    },
    {
     "data": {
      "text/markdown": [
       "<H3 style='text-align:left;float:left;'>Data Types Information:</H3>"
      ],
      "text/plain": [
       "<IPython.core.display.Markdown object>"
      ]
     },
     "metadata": {},
     "output_type": "display_data"
    },
    {
     "data": {
      "text/html": [
       "<style type=\"text/css\">\n",
       "#T_09a34_row0_col2 {\n",
       "  background-color: #004529;\n",
       "  color: #f1f1f1;\n",
       "}\n",
       "#T_09a34_row1_col2, #T_09a34_row2_col2 {\n",
       "  background-color: #ffffe5;\n",
       "  color: #000000;\n",
       "}\n",
       "</style>\n",
       "<table id=\"T_09a34\">\n",
       "  <thead>\n",
       "    <tr>\n",
       "      <th class=\"blank level0\" >&nbsp;</th>\n",
       "      <th id=\"T_09a34_level0_col0\" class=\"col_heading level0 col0\" >Dtype</th>\n",
       "      <th id=\"T_09a34_level0_col1\" class=\"col_heading level0 col1\" >Count</th>\n",
       "      <th id=\"T_09a34_level0_col2\" class=\"col_heading level0 col2\" >Percentage</th>\n",
       "    </tr>\n",
       "  </thead>\n",
       "  <tbody>\n",
       "    <tr>\n",
       "      <th id=\"T_09a34_level0_row0\" class=\"row_heading level0 row0\" >0</th>\n",
       "      <td id=\"T_09a34_row0_col0\" class=\"data row0 col0\" >object</td>\n",
       "      <td id=\"T_09a34_row0_col1\" class=\"data row0 col1\" >12</td>\n",
       "      <td id=\"T_09a34_row0_col2\" class=\"data row0 col2\" >55.00%</td>\n",
       "    </tr>\n",
       "    <tr>\n",
       "      <th id=\"T_09a34_level0_row1\" class=\"row_heading level0 row1\" >1</th>\n",
       "      <td id=\"T_09a34_row1_col0\" class=\"data row1 col0\" >int64</td>\n",
       "      <td id=\"T_09a34_row1_col1\" class=\"data row1 col1\" >5</td>\n",
       "      <td id=\"T_09a34_row1_col2\" class=\"data row1 col2\" >23.00%</td>\n",
       "    </tr>\n",
       "    <tr>\n",
       "      <th id=\"T_09a34_level0_row2\" class=\"row_heading level0 row2\" >2</th>\n",
       "      <td id=\"T_09a34_row2_col0\" class=\"data row2 col0\" >float64</td>\n",
       "      <td id=\"T_09a34_row2_col1\" class=\"data row2 col1\" >5</td>\n",
       "      <td id=\"T_09a34_row2_col2\" class=\"data row2 col2\" >23.00%</td>\n",
       "    </tr>\n",
       "  </tbody>\n",
       "</table>\n"
      ],
      "text/plain": [
       "<pandas.io.formats.style.Styler at 0x27d5496eed0>"
      ]
     },
     "metadata": {},
     "output_type": "display_data"
    }
   ],
   "source": [
    "du = DataUnderstanding(df=df)\n",
    "du.generate_metadata()"
   ]
  },
  {
   "cell_type": "markdown",
   "metadata": {},
   "source": [
    "We don't have any null values in the dataset. That's good!\n",
    "\n",
    "Some important columns are:\n",
    "- **trans_date_trans_time:** understand if there is any pattern in the time of the transaction, that can be a good feature to predict fraud.\n",
    "- **cc_num:** analyze the credit card number, check if there is a concentration of fraud in some credit card numbers.\n",
    "- **merchant and category:** check if there is a concentration of fraud in some merchants and/or categories, could be some merchants or categories that are more prone to fraud.\n",
    "- **locations (lat, long, city, state, zip, etc):** check if there is a concentration of fraud in some locations.\n",
    "- **amt:** Look if some range of amounts has more fraud, could be a good feature to predict fraud.\n",
    "- **is_fraud:** Do a multivariable analysis to understand if there is a correlation between the features and fraud."
   ]
  },
  {
   "cell_type": "markdown",
   "metadata": {},
   "source": [
    "Let's format the data to understand the correlation between the features and the fraud."
   ]
  },
  {
   "cell_type": "code",
   "execution_count": 5,
   "metadata": {},
   "outputs": [],
   "source": [
    "df['trans_date_trans_time'] = pd.to_datetime(df['trans_date_trans_time'])\n",
    "df['dob'] = pd.to_datetime(df['dob'])\n",
    "\n",
    "df['trans_date'] = df['trans_date_trans_time'].dt.date\n",
    "df['trans_time'] = df['trans_date_trans_time'].dt.time\n",
    "df['trans_date'] = pd.to_datetime(df['trans_date'])\n",
    "\n",
    "df['gender'] = df['gender'].map({'F': 0, 'M': 1})"
   ]
  },
  {
   "cell_type": "code",
   "execution_count": 6,
   "metadata": {},
   "outputs": [
    {
     "data": {
      "text/html": [
       "<div>\n",
       "<style scoped>\n",
       "    .dataframe tbody tr th:only-of-type {\n",
       "        vertical-align: middle;\n",
       "    }\n",
       "\n",
       "    .dataframe tbody tr th {\n",
       "        vertical-align: top;\n",
       "    }\n",
       "\n",
       "    .dataframe thead th {\n",
       "        text-align: right;\n",
       "    }\n",
       "</style>\n",
       "<table border=\"1\" class=\"dataframe\">\n",
       "  <thead>\n",
       "    <tr style=\"text-align: right;\">\n",
       "      <th></th>\n",
       "      <th>trans_date_trans_time</th>\n",
       "      <th>cc_num</th>\n",
       "      <th>merchant</th>\n",
       "      <th>category</th>\n",
       "      <th>amt</th>\n",
       "      <th>first</th>\n",
       "      <th>last</th>\n",
       "      <th>gender</th>\n",
       "      <th>street</th>\n",
       "      <th>city</th>\n",
       "      <th>state</th>\n",
       "      <th>zip</th>\n",
       "      <th>lat</th>\n",
       "      <th>long</th>\n",
       "      <th>city_pop</th>\n",
       "      <th>job</th>\n",
       "      <th>dob</th>\n",
       "      <th>trans_num</th>\n",
       "      <th>unix_time</th>\n",
       "      <th>merch_lat</th>\n",
       "      <th>merch_long</th>\n",
       "      <th>is_fraud</th>\n",
       "      <th>trans_date</th>\n",
       "      <th>trans_time</th>\n",
       "    </tr>\n",
       "  </thead>\n",
       "  <tbody>\n",
       "    <tr>\n",
       "      <th>0</th>\n",
       "      <td>2020-06-21 12:14:25</td>\n",
       "      <td>2291163933867244</td>\n",
       "      <td>fraud_Kirlin and Sons</td>\n",
       "      <td>personal_care</td>\n",
       "      <td>2.86</td>\n",
       "      <td>Jeff</td>\n",
       "      <td>Elliott</td>\n",
       "      <td>1</td>\n",
       "      <td>351 Darlene Green</td>\n",
       "      <td>Columbia</td>\n",
       "      <td>SC</td>\n",
       "      <td>29209</td>\n",
       "      <td>33.9659</td>\n",
       "      <td>-80.9355</td>\n",
       "      <td>333497</td>\n",
       "      <td>Mechanical engineer</td>\n",
       "      <td>1968-03-19</td>\n",
       "      <td>2da90c7d74bd46a0caf3777415b3ebd3</td>\n",
       "      <td>1371816865</td>\n",
       "      <td>33.986391</td>\n",
       "      <td>-81.200714</td>\n",
       "      <td>0</td>\n",
       "      <td>2020-06-21</td>\n",
       "      <td>12:14:25</td>\n",
       "    </tr>\n",
       "    <tr>\n",
       "      <th>1</th>\n",
       "      <td>2020-06-21 12:14:33</td>\n",
       "      <td>3573030041201292</td>\n",
       "      <td>fraud_Sporer-Keebler</td>\n",
       "      <td>personal_care</td>\n",
       "      <td>29.84</td>\n",
       "      <td>Joanne</td>\n",
       "      <td>Williams</td>\n",
       "      <td>0</td>\n",
       "      <td>3638 Marsh Union</td>\n",
       "      <td>Altonah</td>\n",
       "      <td>UT</td>\n",
       "      <td>84002</td>\n",
       "      <td>40.3207</td>\n",
       "      <td>-110.4360</td>\n",
       "      <td>302</td>\n",
       "      <td>Sales professional, IT</td>\n",
       "      <td>1990-01-17</td>\n",
       "      <td>324cc204407e99f51b0d6ca0055005e7</td>\n",
       "      <td>1371816873</td>\n",
       "      <td>39.450498</td>\n",
       "      <td>-109.960431</td>\n",
       "      <td>0</td>\n",
       "      <td>2020-06-21</td>\n",
       "      <td>12:14:33</td>\n",
       "    </tr>\n",
       "  </tbody>\n",
       "</table>\n",
       "</div>"
      ],
      "text/plain": [
       "  trans_date_trans_time            cc_num               merchant  \\\n",
       "0   2020-06-21 12:14:25  2291163933867244  fraud_Kirlin and Sons   \n",
       "1   2020-06-21 12:14:33  3573030041201292   fraud_Sporer-Keebler   \n",
       "\n",
       "        category    amt   first      last  gender             street  \\\n",
       "0  personal_care   2.86    Jeff   Elliott       1  351 Darlene Green   \n",
       "1  personal_care  29.84  Joanne  Williams       0   3638 Marsh Union   \n",
       "\n",
       "       city state    zip      lat      long  city_pop                     job  \\\n",
       "0  Columbia    SC  29209  33.9659  -80.9355    333497     Mechanical engineer   \n",
       "1   Altonah    UT  84002  40.3207 -110.4360       302  Sales professional, IT   \n",
       "\n",
       "         dob                         trans_num   unix_time  merch_lat  \\\n",
       "0 1968-03-19  2da90c7d74bd46a0caf3777415b3ebd3  1371816865  33.986391   \n",
       "1 1990-01-17  324cc204407e99f51b0d6ca0055005e7  1371816873  39.450498   \n",
       "\n",
       "   merch_long  is_fraud trans_date trans_time  \n",
       "0  -81.200714         0 2020-06-21   12:14:25  \n",
       "1 -109.960431         0 2020-06-21   12:14:33  "
      ]
     },
     "execution_count": 6,
     "metadata": {},
     "output_type": "execute_result"
    }
   ],
   "source": [
    "df.head(2)"
   ]
  },
  {
   "cell_type": "markdown",
   "metadata": {},
   "source": [
    "## Correlation Analysis"
   ]
  },
  {
   "cell_type": "markdown",
   "metadata": {},
   "source": [
    "First of all, we need to check if there is any correlation between the features and the fraud."
   ]
  },
  {
   "cell_type": "code",
   "execution_count": 7,
   "metadata": {},
   "outputs": [
    {
     "data": {
      "application/vnd.plotly.v1+json": {
       "config": {
        "plotlyServerURL": "https://plot.ly"
       },
       "data": [
        {
         "colorscale": [
          [
           0,
           "#000004"
          ],
          [
           0.1111111111111111,
           "#1b0c41"
          ],
          [
           0.2222222222222222,
           "#4a0c6b"
          ],
          [
           0.3333333333333333,
           "#781c6d"
          ],
          [
           0.4444444444444444,
           "#a52c60"
          ],
          [
           0.5555555555555556,
           "#cf4446"
          ],
          [
           0.6666666666666666,
           "#ed6925"
          ],
          [
           0.7777777777777778,
           "#fb9b06"
          ],
          [
           0.8888888888888888,
           "#f7d13d"
          ],
          [
           1,
           "#fcffa4"
          ]
         ],
         "hoverongaps": false,
         "text": [
          [
           null,
           null,
           null,
           null,
           null,
           null,
           null,
           null,
           null,
           null,
           null
          ],
          [
           0.0019627621979476898,
           null,
           null,
           null,
           null,
           null,
           null,
           null,
           null,
           null,
           null
          ],
          [
           -0.0014823802571977641,
           0.000027471252960266197,
           null,
           null,
           null,
           null,
           null,
           null,
           null,
           null,
           null
          ],
          [
           0.0416101979533322,
           0.002310366088183953,
           -0.06646672882574277,
           null,
           null,
           null,
           null,
           null,
           null,
           null,
           null
          ],
          [
           -0.05751231358880605,
           0.002338584204393886,
           0.04269224069195174,
           -0.11517302758769897,
           null,
           null,
           null,
           null,
           null,
           null,
           null
          ],
          [
           -0.048783109103333326,
           -0.0020464788650830863,
           0.05123504002306447,
           -0.9099418951675675,
           -0.01289177799402965,
           null,
           null,
           null,
           null,
           null,
           null
          ],
          [
           -0.009413572941008521,
           0.002759585510766285,
           -0.029366917540714247,
           0.07557098680332366,
           -0.15266601766415622,
           -0.05152352423707747,
           null,
           null,
           null,
           null,
           null
          ],
          [
           -0.0008098226289603604,
           -0.000974111974685543,
           -0.0005769327597442266,
           0.0013949912687902834,
           0.0003011064114123352,
           -0.0014604752983153994,
           -0.0007395861919189108,
           null,
           null,
           null,
           null
          ],
          [
           -0.057183388320024835,
           0.0024041562340497077,
           0.04256869278329465,
           -0.11480915564305386,
           0.993556716131483,
           -0.012551378030181142,
           -0.15170258645781245,
           0.0003652204814265626,
           null,
           null,
           null
          ],
          [
           -0.04881773656447179,
           -0.0020525760694638925,
           0.0512034356930949,
           -0.909117135683608,
           -0.01283081515670631,
           0.999115376450787,
           -0.05148887463849801,
           -0.0014854318854802791,
           -0.012495619201007455,
           null,
           null
          ],
          [
           -0.0015402988751393573,
           0.18226707130820347,
           0.0007475395124811403,
           -0.0022709202439642495,
           0.005863041655737772,
           -0.0009718482506352719,
           -0.004909661380145482,
           -0.013066001221626539,
           0.0058123890662325406,
           -0.0010599379020503317,
           null
          ]
         ],
         "texttemplate": "%{text:.2f}",
         "type": "heatmap",
         "x": [
          "cc_num",
          "amt",
          "gender",
          "zip",
          "lat",
          "long",
          "city_pop",
          "unix_time",
          "merch_lat",
          "merch_long",
          "is_fraud"
         ],
         "y": [
          "cc_num",
          "amt",
          "gender",
          "zip",
          "lat",
          "long",
          "city_pop",
          "unix_time",
          "merch_lat",
          "merch_long",
          "is_fraud"
         ],
         "z": [
          [
           null,
           null,
           null,
           null,
           null,
           null,
           null,
           null,
           null,
           null,
           null
          ],
          [
           0.0019627621979476898,
           null,
           null,
           null,
           null,
           null,
           null,
           null,
           null,
           null,
           null
          ],
          [
           -0.0014823802571977641,
           0.000027471252960266197,
           null,
           null,
           null,
           null,
           null,
           null,
           null,
           null,
           null
          ],
          [
           0.0416101979533322,
           0.002310366088183953,
           -0.06646672882574277,
           null,
           null,
           null,
           null,
           null,
           null,
           null,
           null
          ],
          [
           -0.05751231358880605,
           0.002338584204393886,
           0.04269224069195174,
           -0.11517302758769897,
           null,
           null,
           null,
           null,
           null,
           null,
           null
          ],
          [
           -0.048783109103333326,
           -0.0020464788650830863,
           0.05123504002306447,
           -0.9099418951675675,
           -0.01289177799402965,
           null,
           null,
           null,
           null,
           null,
           null
          ],
          [
           -0.009413572941008521,
           0.002759585510766285,
           -0.029366917540714247,
           0.07557098680332366,
           -0.15266601766415622,
           -0.05152352423707747,
           null,
           null,
           null,
           null,
           null
          ],
          [
           -0.0008098226289603604,
           -0.000974111974685543,
           -0.0005769327597442266,
           0.0013949912687902834,
           0.0003011064114123352,
           -0.0014604752983153994,
           -0.0007395861919189108,
           null,
           null,
           null,
           null
          ],
          [
           -0.057183388320024835,
           0.0024041562340497077,
           0.04256869278329465,
           -0.11480915564305386,
           0.993556716131483,
           -0.012551378030181142,
           -0.15170258645781245,
           0.0003652204814265626,
           null,
           null,
           null
          ],
          [
           -0.04881773656447179,
           -0.0020525760694638925,
           0.0512034356930949,
           -0.909117135683608,
           -0.01283081515670631,
           0.999115376450787,
           -0.05148887463849801,
           -0.0014854318854802791,
           -0.012495619201007455,
           null,
           null
          ],
          [
           -0.0015402988751393573,
           0.18226707130820347,
           0.0007475395124811403,
           -0.0022709202439642495,
           0.005863041655737772,
           -0.0009718482506352719,
           -0.004909661380145482,
           -0.013066001221626539,
           0.0058123890662325406,
           -0.0010599379020503317,
           null
          ]
         ],
         "zmax": 1,
         "zmin": -1
        }
       ],
       "layout": {
        "height": 500,
        "template": {
         "data": {
          "bar": [
           {
            "error_x": {
             "color": "#2a3f5f"
            },
            "error_y": {
             "color": "#2a3f5f"
            },
            "marker": {
             "line": {
              "color": "white",
              "width": 0.5
             },
             "pattern": {
              "fillmode": "overlay",
              "size": 10,
              "solidity": 0.2
             }
            },
            "type": "bar"
           }
          ],
          "barpolar": [
           {
            "marker": {
             "line": {
              "color": "white",
              "width": 0.5
             },
             "pattern": {
              "fillmode": "overlay",
              "size": 10,
              "solidity": 0.2
             }
            },
            "type": "barpolar"
           }
          ],
          "carpet": [
           {
            "aaxis": {
             "endlinecolor": "#2a3f5f",
             "gridcolor": "#C8D4E3",
             "linecolor": "#C8D4E3",
             "minorgridcolor": "#C8D4E3",
             "startlinecolor": "#2a3f5f"
            },
            "baxis": {
             "endlinecolor": "#2a3f5f",
             "gridcolor": "#C8D4E3",
             "linecolor": "#C8D4E3",
             "minorgridcolor": "#C8D4E3",
             "startlinecolor": "#2a3f5f"
            },
            "type": "carpet"
           }
          ],
          "choropleth": [
           {
            "colorbar": {
             "outlinewidth": 0,
             "ticks": ""
            },
            "type": "choropleth"
           }
          ],
          "contour": [
           {
            "colorbar": {
             "outlinewidth": 0,
             "ticks": ""
            },
            "colorscale": [
             [
              0,
              "#0d0887"
             ],
             [
              0.1111111111111111,
              "#46039f"
             ],
             [
              0.2222222222222222,
              "#7201a8"
             ],
             [
              0.3333333333333333,
              "#9c179e"
             ],
             [
              0.4444444444444444,
              "#bd3786"
             ],
             [
              0.5555555555555556,
              "#d8576b"
             ],
             [
              0.6666666666666666,
              "#ed7953"
             ],
             [
              0.7777777777777778,
              "#fb9f3a"
             ],
             [
              0.8888888888888888,
              "#fdca26"
             ],
             [
              1,
              "#f0f921"
             ]
            ],
            "type": "contour"
           }
          ],
          "contourcarpet": [
           {
            "colorbar": {
             "outlinewidth": 0,
             "ticks": ""
            },
            "type": "contourcarpet"
           }
          ],
          "heatmap": [
           {
            "colorbar": {
             "outlinewidth": 0,
             "ticks": ""
            },
            "colorscale": [
             [
              0,
              "#0d0887"
             ],
             [
              0.1111111111111111,
              "#46039f"
             ],
             [
              0.2222222222222222,
              "#7201a8"
             ],
             [
              0.3333333333333333,
              "#9c179e"
             ],
             [
              0.4444444444444444,
              "#bd3786"
             ],
             [
              0.5555555555555556,
              "#d8576b"
             ],
             [
              0.6666666666666666,
              "#ed7953"
             ],
             [
              0.7777777777777778,
              "#fb9f3a"
             ],
             [
              0.8888888888888888,
              "#fdca26"
             ],
             [
              1,
              "#f0f921"
             ]
            ],
            "type": "heatmap"
           }
          ],
          "heatmapgl": [
           {
            "colorbar": {
             "outlinewidth": 0,
             "ticks": ""
            },
            "colorscale": [
             [
              0,
              "#0d0887"
             ],
             [
              0.1111111111111111,
              "#46039f"
             ],
             [
              0.2222222222222222,
              "#7201a8"
             ],
             [
              0.3333333333333333,
              "#9c179e"
             ],
             [
              0.4444444444444444,
              "#bd3786"
             ],
             [
              0.5555555555555556,
              "#d8576b"
             ],
             [
              0.6666666666666666,
              "#ed7953"
             ],
             [
              0.7777777777777778,
              "#fb9f3a"
             ],
             [
              0.8888888888888888,
              "#fdca26"
             ],
             [
              1,
              "#f0f921"
             ]
            ],
            "type": "heatmapgl"
           }
          ],
          "histogram": [
           {
            "marker": {
             "pattern": {
              "fillmode": "overlay",
              "size": 10,
              "solidity": 0.2
             }
            },
            "type": "histogram"
           }
          ],
          "histogram2d": [
           {
            "colorbar": {
             "outlinewidth": 0,
             "ticks": ""
            },
            "colorscale": [
             [
              0,
              "#0d0887"
             ],
             [
              0.1111111111111111,
              "#46039f"
             ],
             [
              0.2222222222222222,
              "#7201a8"
             ],
             [
              0.3333333333333333,
              "#9c179e"
             ],
             [
              0.4444444444444444,
              "#bd3786"
             ],
             [
              0.5555555555555556,
              "#d8576b"
             ],
             [
              0.6666666666666666,
              "#ed7953"
             ],
             [
              0.7777777777777778,
              "#fb9f3a"
             ],
             [
              0.8888888888888888,
              "#fdca26"
             ],
             [
              1,
              "#f0f921"
             ]
            ],
            "type": "histogram2d"
           }
          ],
          "histogram2dcontour": [
           {
            "colorbar": {
             "outlinewidth": 0,
             "ticks": ""
            },
            "colorscale": [
             [
              0,
              "#0d0887"
             ],
             [
              0.1111111111111111,
              "#46039f"
             ],
             [
              0.2222222222222222,
              "#7201a8"
             ],
             [
              0.3333333333333333,
              "#9c179e"
             ],
             [
              0.4444444444444444,
              "#bd3786"
             ],
             [
              0.5555555555555556,
              "#d8576b"
             ],
             [
              0.6666666666666666,
              "#ed7953"
             ],
             [
              0.7777777777777778,
              "#fb9f3a"
             ],
             [
              0.8888888888888888,
              "#fdca26"
             ],
             [
              1,
              "#f0f921"
             ]
            ],
            "type": "histogram2dcontour"
           }
          ],
          "mesh3d": [
           {
            "colorbar": {
             "outlinewidth": 0,
             "ticks": ""
            },
            "type": "mesh3d"
           }
          ],
          "parcoords": [
           {
            "line": {
             "colorbar": {
              "outlinewidth": 0,
              "ticks": ""
             }
            },
            "type": "parcoords"
           }
          ],
          "pie": [
           {
            "automargin": true,
            "type": "pie"
           }
          ],
          "scatter": [
           {
            "fillpattern": {
             "fillmode": "overlay",
             "size": 10,
             "solidity": 0.2
            },
            "type": "scatter"
           }
          ],
          "scatter3d": [
           {
            "line": {
             "colorbar": {
              "outlinewidth": 0,
              "ticks": ""
             }
            },
            "marker": {
             "colorbar": {
              "outlinewidth": 0,
              "ticks": ""
             }
            },
            "type": "scatter3d"
           }
          ],
          "scattercarpet": [
           {
            "marker": {
             "colorbar": {
              "outlinewidth": 0,
              "ticks": ""
             }
            },
            "type": "scattercarpet"
           }
          ],
          "scattergeo": [
           {
            "marker": {
             "colorbar": {
              "outlinewidth": 0,
              "ticks": ""
             }
            },
            "type": "scattergeo"
           }
          ],
          "scattergl": [
           {
            "marker": {
             "colorbar": {
              "outlinewidth": 0,
              "ticks": ""
             }
            },
            "type": "scattergl"
           }
          ],
          "scattermapbox": [
           {
            "marker": {
             "colorbar": {
              "outlinewidth": 0,
              "ticks": ""
             }
            },
            "type": "scattermapbox"
           }
          ],
          "scatterpolar": [
           {
            "marker": {
             "colorbar": {
              "outlinewidth": 0,
              "ticks": ""
             }
            },
            "type": "scatterpolar"
           }
          ],
          "scatterpolargl": [
           {
            "marker": {
             "colorbar": {
              "outlinewidth": 0,
              "ticks": ""
             }
            },
            "type": "scatterpolargl"
           }
          ],
          "scatterternary": [
           {
            "marker": {
             "colorbar": {
              "outlinewidth": 0,
              "ticks": ""
             }
            },
            "type": "scatterternary"
           }
          ],
          "surface": [
           {
            "colorbar": {
             "outlinewidth": 0,
             "ticks": ""
            },
            "colorscale": [
             [
              0,
              "#0d0887"
             ],
             [
              0.1111111111111111,
              "#46039f"
             ],
             [
              0.2222222222222222,
              "#7201a8"
             ],
             [
              0.3333333333333333,
              "#9c179e"
             ],
             [
              0.4444444444444444,
              "#bd3786"
             ],
             [
              0.5555555555555556,
              "#d8576b"
             ],
             [
              0.6666666666666666,
              "#ed7953"
             ],
             [
              0.7777777777777778,
              "#fb9f3a"
             ],
             [
              0.8888888888888888,
              "#fdca26"
             ],
             [
              1,
              "#f0f921"
             ]
            ],
            "type": "surface"
           }
          ],
          "table": [
           {
            "cells": {
             "fill": {
              "color": "#EBF0F8"
             },
             "line": {
              "color": "white"
             }
            },
            "header": {
             "fill": {
              "color": "#C8D4E3"
             },
             "line": {
              "color": "white"
             }
            },
            "type": "table"
           }
          ]
         },
         "layout": {
          "annotationdefaults": {
           "arrowcolor": "#2a3f5f",
           "arrowhead": 0,
           "arrowwidth": 1
          },
          "autotypenumbers": "strict",
          "coloraxis": {
           "colorbar": {
            "outlinewidth": 0,
            "ticks": ""
           }
          },
          "colorscale": {
           "diverging": [
            [
             0,
             "#8e0152"
            ],
            [
             0.1,
             "#c51b7d"
            ],
            [
             0.2,
             "#de77ae"
            ],
            [
             0.3,
             "#f1b6da"
            ],
            [
             0.4,
             "#fde0ef"
            ],
            [
             0.5,
             "#f7f7f7"
            ],
            [
             0.6,
             "#e6f5d0"
            ],
            [
             0.7,
             "#b8e186"
            ],
            [
             0.8,
             "#7fbc41"
            ],
            [
             0.9,
             "#4d9221"
            ],
            [
             1,
             "#276419"
            ]
           ],
           "sequential": [
            [
             0,
             "#0d0887"
            ],
            [
             0.1111111111111111,
             "#46039f"
            ],
            [
             0.2222222222222222,
             "#7201a8"
            ],
            [
             0.3333333333333333,
             "#9c179e"
            ],
            [
             0.4444444444444444,
             "#bd3786"
            ],
            [
             0.5555555555555556,
             "#d8576b"
            ],
            [
             0.6666666666666666,
             "#ed7953"
            ],
            [
             0.7777777777777778,
             "#fb9f3a"
            ],
            [
             0.8888888888888888,
             "#fdca26"
            ],
            [
             1,
             "#f0f921"
            ]
           ],
           "sequentialminus": [
            [
             0,
             "#0d0887"
            ],
            [
             0.1111111111111111,
             "#46039f"
            ],
            [
             0.2222222222222222,
             "#7201a8"
            ],
            [
             0.3333333333333333,
             "#9c179e"
            ],
            [
             0.4444444444444444,
             "#bd3786"
            ],
            [
             0.5555555555555556,
             "#d8576b"
            ],
            [
             0.6666666666666666,
             "#ed7953"
            ],
            [
             0.7777777777777778,
             "#fb9f3a"
            ],
            [
             0.8888888888888888,
             "#fdca26"
            ],
            [
             1,
             "#f0f921"
            ]
           ]
          },
          "colorway": [
           "#636efa",
           "#EF553B",
           "#00cc96",
           "#ab63fa",
           "#FFA15A",
           "#19d3f3",
           "#FF6692",
           "#B6E880",
           "#FF97FF",
           "#FECB52"
          ],
          "font": {
           "color": "#2a3f5f"
          },
          "geo": {
           "bgcolor": "white",
           "lakecolor": "white",
           "landcolor": "white",
           "showlakes": true,
           "showland": true,
           "subunitcolor": "#C8D4E3"
          },
          "hoverlabel": {
           "align": "left"
          },
          "hovermode": "closest",
          "mapbox": {
           "style": "light"
          },
          "paper_bgcolor": "white",
          "plot_bgcolor": "white",
          "polar": {
           "angularaxis": {
            "gridcolor": "#EBF0F8",
            "linecolor": "#EBF0F8",
            "ticks": ""
           },
           "bgcolor": "white",
           "radialaxis": {
            "gridcolor": "#EBF0F8",
            "linecolor": "#EBF0F8",
            "ticks": ""
           }
          },
          "scene": {
           "xaxis": {
            "backgroundcolor": "white",
            "gridcolor": "#DFE8F3",
            "gridwidth": 2,
            "linecolor": "#EBF0F8",
            "showbackground": true,
            "ticks": "",
            "zerolinecolor": "#EBF0F8"
           },
           "yaxis": {
            "backgroundcolor": "white",
            "gridcolor": "#DFE8F3",
            "gridwidth": 2,
            "linecolor": "#EBF0F8",
            "showbackground": true,
            "ticks": "",
            "zerolinecolor": "#EBF0F8"
           },
           "zaxis": {
            "backgroundcolor": "white",
            "gridcolor": "#DFE8F3",
            "gridwidth": 2,
            "linecolor": "#EBF0F8",
            "showbackground": true,
            "ticks": "",
            "zerolinecolor": "#EBF0F8"
           }
          },
          "shapedefaults": {
           "line": {
            "color": "#2a3f5f"
           }
          },
          "ternary": {
           "aaxis": {
            "gridcolor": "#DFE8F3",
            "linecolor": "#A2B1C6",
            "ticks": ""
           },
           "baxis": {
            "gridcolor": "#DFE8F3",
            "linecolor": "#A2B1C6",
            "ticks": ""
           },
           "bgcolor": "white",
           "caxis": {
            "gridcolor": "#DFE8F3",
            "linecolor": "#A2B1C6",
            "ticks": ""
           }
          },
          "title": {
           "x": 0.05
          },
          "xaxis": {
           "automargin": true,
           "gridcolor": "#EBF0F8",
           "linecolor": "#EBF0F8",
           "ticks": "",
           "title": {
            "standoff": 15
           },
           "zerolinecolor": "#EBF0F8",
           "zerolinewidth": 2
          },
          "yaxis": {
           "automargin": true,
           "gridcolor": "#EBF0F8",
           "linecolor": "#EBF0F8",
           "ticks": "",
           "title": {
            "standoff": 15
           },
           "zerolinecolor": "#EBF0F8",
           "zerolinewidth": 2
          }
         }
        },
        "title": {
         "text": "Heatmap Correlation"
        },
        "width": 1000,
        "xaxis": {
         "nticks": 36
        },
        "yaxis": {
         "autorange": "reversed"
        }
       }
      }
     },
     "metadata": {},
     "output_type": "display_data"
    }
   ],
   "source": [
    "dv = DataVisualization(df=df)\n",
    "dv.plot_correlation_heatmap()"
   ]
  },
  {
   "cell_type": "markdown",
   "metadata": {},
   "source": [
    "### Insights from the Heatmap\n",
    "\n",
    "1. **Correlation between `lat` and `long`**:\n",
    "   - Latitude (`lat`) and longitude (`long`) have a very high correlation, which is expected since both represent the geographical location of the cardholder's address.\n",
    "\n",
    "2. **Correlation between `merch_lat` and `merch_long`**:\n",
    "   - Similarly, the latitude (`merch_lat`) and longitude (`merch_long`) of the merchant also have a high correlation, indicating the geographical location of the merchant.\n",
    "\n",
    "3. **Correlation between `amt` and `is_fraud`**:\n",
    "   - The correlation between the transaction amount (`amt`) and fraud (`is_fraud`) can be a point of interest. If there is a significant correlation, it may indicate that transactions of certain amounts are more likely to be fraudulent."
   ]
  },
  {
   "cell_type": "code",
   "execution_count": null,
   "metadata": {},
   "outputs": [],
   "source": []
  },
  {
   "cell_type": "code",
   "execution_count": null,
   "metadata": {},
   "outputs": [],
   "source": [
    "df.loc[df['cc_num'] == 2291163933867244]"
   ]
  }
 ],
 "metadata": {
  "kernelspec": {
   "display_name": "fraud_project_venv",
   "language": "python",
   "name": "python3"
  },
  "language_info": {
   "codemirror_mode": {
    "name": "ipython",
    "version": 3
   },
   "file_extension": ".py",
   "mimetype": "text/x-python",
   "name": "python",
   "nbconvert_exporter": "python",
   "pygments_lexer": "ipython3",
   "version": "3.12.4"
  }
 },
 "nbformat": 4,
 "nbformat_minor": 2
}
